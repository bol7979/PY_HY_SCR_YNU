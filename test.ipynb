{
 "cells": [
  {
   "cell_type": "code",
   "execution_count": 2,
   "metadata": {},
   "outputs": [],
   "source": [
    "import requests"
   ]
  },
  {
   "cell_type": "code",
   "execution_count": 3,
   "metadata": {},
   "outputs": [],
   "source": [
    "from bs4 import BeautifulSoup\n"
   ]
  },
  {
   "cell_type": "code",
   "execution_count": 4,
   "metadata": {},
   "outputs": [],
   "source": [
    "pg = 1\n",
    "kw = \"컴퓨터\""
   ]
  },
  {
   "cell_type": "code",
   "execution_count": 10,
   "metadata": {},
   "outputs": [],
   "source": [
    "response = requests.get(\n",
    "    \"https://www.coupang.com/np/search?q={kw}&channel=user&page={pg}\",\n",
    "    headers = {\"User-Agent\": \"Mozilla/5.0 (Windows NT 10.0; Win64; x64) AppleWebKit/537.36 (KHTML, like Gecko) Chrome/109.0.0.0 Safari/537.36\", \"Accept-Language\": \"ko-KR,ko;q=0.8,en-US;q=0.5,en;q=0.3\"})"
   ]
  },
  {
   "cell_type": "code",
   "execution_count": 11,
   "metadata": {},
   "outputs": [
    {
     "name": "stdout",
     "output_type": "stream",
     "text": [
      "<!DOCTYPE html>\n",
      "\n",
      "<!--[if lte IE 7 ]><html class=\"lt-ie9 lt-ie8\" lang=\"ko-KR\"><![endif]-->\n",
      "<!--[if IE 8 ]><html class=\"lt-ie9\" lang=\"ko-KR\"><![endif]-->\n",
      "<!--[if (gte IE 9)|!(IE)]><!--><html lang=\"ko-KR\"><!--<![endif]-->\n",
      "<head>\n",
      "<meta content=\"text/html; charset=utf-8\" http-equiv=\"Content-Type\"/>\n",
      "<link href=\"//static.coupangcdn.com/image/coupang/favicon/v2/favicon.ico\" rel=\"shortcut icon\" type=\"image/x-icon\"/>\n",
      "<title>쿠팡!</title>\n",
      "<style type=\"text/css\">\n",
      "    body {background: #f0f0f0; font-size:12px; font-family: \"apple sd gothic neo\", \"맑은 고딕\", \"malgun gothic\", 나눔고딕, nanumgothic, 돋움, dotum, sans-serif; color:#111; margin: 0; padding: 0; height: 100%; }\n",
      "    h1, h2, fieldset, legend, img, button, p { margin: 0; padding: 0; border: 0; }\n",
      "    a, a:hover { text-decoration: none; }\n",
      "    legend { display: none; }\n",
      "    .error-header-wrap { width: 100%; height: 115px; background: #fff; }\n",
      "    .header { width: 1020px; height: 115px; margin: 0 auto; }\n",
      "    h1 { width: 174px; height: 41px; margin: 37px 20px 0 40px; float: left; }\n",
      "    .search-form { position: relative; float: left; border: #4285f4 solid 2px; width: 741px; height: 37px; margin-top: 37px; }\n",
      "    .coupang-search { border: none; width: 691px; height: 35px; text-indent: 10px; line-height:37px; font-size:14px; color:#333; outline: 0; }\n",
      "    .coupang-search:not(*:root) { line-height: normal; }\n",
      "    input.coupang-search::-ms-clear{ display: none; }\n",
      "    input:focus { border: none; }\n",
      "    .search{ position:absolute; right:0; width:50px; height:39px; text-indent:-9999em; cursor: pointer;\n",
      "        background:url('//img1a.coupangcdn.com/image/coupang/common/pc_header_img_sprite_161007.png') -112px -71px no-repeat; }\n",
      "\n",
      "    .error-msg-wrap { width: 676px; height: 380px; background: #fff url(\"//img2a.coupangcdn.com/image/coupang/error/img-cpman.jpg\") bottom right no-repeat; margin:100px auto 9px auto; border: #ccc solid 1px; }\n",
      "    .error-msg-wrap h2 { font-size: 38px; margin: 87px 0 18px 65px; }\n",
      "    .error-msg-wrap h2 p { font-size: 22px; letter-spacing: -1px; }\n",
      "    .error-msg { font-size: 15px; color: #555; margin-left: 65px; line-height: 21px; letter-spacing: -1px; }\n",
      "    .error-msg em { font-style: normal; font-weight: bold; color: #434343; }\n",
      "    .error-msg a { display: block; width: 142px; height: 40px; color: #fff; background: #0073e9; font-weight: bold; font-size: 16px; text-align: center; line-height: 40px; border-radius: 2px; margin-top: 24px; }\n",
      "    .error-msg a:hover { background: #0053a3; }\n",
      "</style>\n",
      "<script>!function(e){var n=\"https://s.go-mpulse.net/boomerang/\";if(\"False\"==\"True\")e.BOOMR_config=e.BOOMR_config||{},e.BOOMR_config.PageParams=e.BOOMR_config.PageParams||{},e.BOOMR_config.PageParams.pci=!0,n=\"https://s2.go-mpulse.net/boomerang/\";if(window.BOOMR_API_key=\"WXG9C-E4PH3-3VS7G-HHZWT-KZLD9\",function(){function e(){if(!o){var e=document.createElement(\"script\");e.id=\"boomr-scr-as\",e.src=window.BOOMR.url,e.async=!0,i.parentNode.appendChild(e),o=!0}}function t(e){o=!0;var n,t,a,r,d=document,O=window;if(window.BOOMR.snippetMethod=e?\"if\":\"i\",t=function(e,n){var t=d.createElement(\"script\");t.id=n||\"boomr-if-as\",t.src=window.BOOMR.url,BOOMR_lstart=(new Date).getTime(),e=e||d.body,e.appendChild(t)},!window.addEventListener&&window.attachEvent&&navigator.userAgent.match(/MSIE [67]\\./))return window.BOOMR.snippetMethod=\"s\",void t(i.parentNode,\"boomr-async\");a=document.createElement(\"IFRAME\"),a.src=\"about:blank\",a.title=\"\",a.role=\"presentation\",a.loading=\"eager\",r=(a.frameElement||a).style,r.width=0,r.height=0,r.border=0,r.display=\"none\",i.parentNode.appendChild(a);try{O=a.contentWindow,d=O.document.open()}catch(_){n=document.domain,a.src=\"javascript:var d=document.open();d.domain='\"+n+\"';void(0);\",O=a.contentWindow,d=O.document.open()}if(n)d._boomrl=function(){this.domain=n,t()},d.write(\"<bo\"+\"dy onload='document._boomrl();'>\");else if(O._boomrl=function(){t()},O.addEventListener)O.addEventListener(\"load\",O._boomrl,!1);else if(O.attachEvent)O.attachEvent(\"onload\",O._boomrl);d.close()}function a(e){window.BOOMR_onload=e&&e.timeStamp||(new Date).getTime()}if(!window.BOOMR||!window.BOOMR.version&&!window.BOOMR.snippetExecuted){window.BOOMR=window.BOOMR||{},window.BOOMR.snippetStart=(new Date).getTime(),window.BOOMR.snippetExecuted=!0,window.BOOMR.snippetVersion=12,window.BOOMR.url=n+\"WXG9C-E4PH3-3VS7G-HHZWT-KZLD9\";var i=document.currentScript||document.getElementsByTagName(\"script\")[0],o=!1,r=document.createElement(\"link\");if(r.relList&&\"function\"==typeof r.relList.supports&&r.relList.supports(\"preload\")&&\"as\"in r)window.BOOMR.snippetMethod=\"p\",r.href=window.BOOMR.url,r.rel=\"preload\",r.as=\"script\",r.addEventListener(\"load\",e),r.addEventListener(\"error\",function(){t(!0)}),setTimeout(function(){if(!o)t(!0)},3e3),BOOMR_lstart=(new Date).getTime(),i.parentNode.appendChild(r);else t(!1);if(window.addEventListener)window.addEventListener(\"load\",a,!1);else if(window.attachEvent)window.attachEvent(\"onload\",a)}}(),\"300\".length>0)if(e&&\"performance\"in e&&e.performance&&\"function\"==typeof e.performance.setResourceTimingBufferSize)e.performance.setResourceTimingBufferSize(300);!function(){if(BOOMR=e.BOOMR||{},BOOMR.plugins=BOOMR.plugins||{},!BOOMR.plugins.AK){var n=\"\"==\"true\"?1:0,t=\"\",a=\"hmm7cldil3mzmzwrdooq-f-544e5331d-clientnsv4-s.akamaihd.net\",i=\"false\"==\"true\"?2:1,o={\"ak.v\":\"37\",\"ak.cp\":\"461878\",\"ak.ai\":parseInt(\"296501\",10),\"ak.ol\":\"0\",\"ak.cr\":6,\"ak.ipv\":4,\"ak.proto\":\"http/1.1\",\"ak.rid\":\"301f343e\",\"ak.r\":44964,\"ak.a2\":n,\"ak.m\":\"a\",\"ak.n\":\"essl\",\"ak.bpcip\":\"59.25.241.0\",\"ak.cport\":52874,\"ak.gh\":\"23.216.159.143\",\"ak.quicv\":\"\",\"ak.tlsv\":\"tls1.3\",\"ak.0rtt\":\"\",\"ak.csrc\":\"-\",\"ak.acc\":\"reno\",\"ak.t\":\"1724980125\",\"ak.ak\":\"hOBiQwZUYzCg5VSAfCLimQ==g2Us9ENmzwIOURUU8CD8DYD8DMmdozxn65td0bagkGTQSHwW+001ne8aZ7D52WR7wlMcz9DBDWsg9+42C/rGX7SdQLVmeD6u8T/kZByd4BJvwdKaxPzAQGLxQjif9qIqoN2x2Zdtvtm3CePhCWO8SkdO+M/jPSeJW66/NLky+fmLWpapzopp27dY9IAu01GzukMvFFoc+LZkk110G3WCjPrgB6Ypa3S+BMH8ov3h6CgKKZn3CTsNeHP77S9GOPn+rcG/SkxjN2VRqO6IRrg2fTLTLZ6PRyStKlPLBI+NubcTsks7/q7n3HrBlIycbVVqEx7M7iaC9xi8mcD7aql4Ba9qZ747uU138MUPReVnFTNrzkQ1CaTadHUUvz+VEgrmWzhj0+IvUvUiGvn2JdZIM5kYPg/RaGnY5LIlJCjcoQg=\",\"ak.pv\":\"105\",\"ak.dpoabenc\":\"\",\"ak.tf\":i};if(\"\"!==t)o[\"ak.ruds\"]=t;var r={i:!1,av:function(n){var t=\"http.initiator\";if(n&&(!n[t]||\"spa_hard\"===n[t]))o[\"ak.feo\"]=void 0!==e.aFeoApplied?1:0,BOOMR.addVar(o)},rv:function(){var e=[\"ak.bpcip\",\"ak.cport\",\"ak.cr\",\"ak.csrc\",\"ak.gh\",\"ak.ipv\",\"ak.m\",\"ak.n\",\"ak.ol\",\"ak.proto\",\"ak.quicv\",\"ak.tlsv\",\"ak.0rtt\",\"ak.r\",\"ak.acc\",\"ak.t\",\"ak.tf\"];BOOMR.removeVar(e)}};BOOMR.plugins.AK={akVars:o,akDNSPreFetchDomain:a,init:function(){if(!r.i){var e=BOOMR.subscribe;e(\"before_beacon\",r.av,null,null),e(\"onbeacon\",r.rv,null,null),r.i=!0}return this},is_complete:function(){return!0}}}}()}(window);</script></head>\n",
      "<body data-reference='{\"wiselogSid\":\"coupang\", \"profile\":\"\"}'>\n",
      "<div class=\"error-header-wrap\">\n",
      "<div class=\"header\">\n",
      "<h1><a data-coulog='{\"logCategory\":\"event\", \"logType\":\"click\", \"logLabel\":\"coupang_logo\"}' href=\"//www.coupang.com/\" title=\"Coupang - 내가 잘사는 이유\"><img alt=\"쿠팡로고\" height=\"41\" src=\"//img1a.coupangcdn.com/image/coupang/common/logo_coupang_w350.png\" width=\"174\"/></a></h1>\n",
      "<div class=\"search-form\">\n",
      "<fieldset>\n",
      "<legend>상품검색</legend>\n",
      "<form action=\"//www.coupang.com/np/search\" id=\"headerSearchForm\" method=\"get\">\n",
      "<input id=\"searchSelectedCategory\" name=\"component\" type=\"hidden\" value=\"\"/>\n",
      "<input autocomplete=\"off\" class=\"coupang-search\" id=\"headerSearchKeyword\" name=\"q\" title=\"쿠팡 상품 검색\" type=\"text\" value=\"\"/>\n",
      "<input name=\"channel\" type=\"hidden\" value=\"user\"/>\n",
      "<button class=\"search\" data-coulog='{\"logCategory\":\"event\", \"logType\":\"click\", \"logLabel\":\"go_search\"}' id=\"headerSearchBtn\" title=\"검색\" type=\"submit\">검색</button>\n",
      "</form>\n",
      "</fieldset>\n",
      "</div>\n",
      "</div>\n",
      "</div>\n",
      "<div class=\"error-msg-wrap\">\n",
      "<h2>죄송합니다. <p>요청하신 페이지를 찾지 못했습니다.</p></h2>\n",
      "<div class=\"error-msg\">\n",
      "            입력하신 주소가 정확한지 한 번 더 확인해주시기 바랍니다. <br/>\n",
      "<em>검색</em>이나 <em>쿠팡 홈</em>을 이용하시면 좀 더 다양한 상품을<br/> 구경하실 수 있습니다.\n",
      "            <a class=\"go-home\" data-coulog='{\"logCategory\":\"event\", \"logType\":\"click\", \"logLabel\":\"go_home\"}' href=\"//www.coupang.com/\">쿠팡 홈으로</a>\n",
      "</div>\n",
      "</div>\n",
      "<!-- CouLog -->\n",
      "<script src=\"//assets.coupangcdn.com/cdnjs/jquery/1.11.1/jquery.min.js\" type=\"text/javascript\"></script>\n",
      "<script async=\"\" src=\"//assets.coupangcdn.com/customjs/cou-log/2.0.0/cou-log.min.js\" type=\"text/javascript\"></script>\n",
      "<script src=\"/jo4tZ4/twSq/g/Q/C_ArDMUOjt9Aa3M/X1EuScfLXO8XEt/RVtxUzcaWgE/J2AoKG/1TNC0\" type=\"text/javascript\"></script></body>\n",
      "</html>\n",
      "\n"
     ]
    }
   ],
   "source": [
    "soup = BeautifulSoup(response.text, \"html.parser\")\n",
    "print(soup)"
   ]
  },
  {
   "cell_type": "code",
   "execution_count": 12,
   "metadata": {},
   "outputs": [
    {
     "name": "stdout",
     "output_type": "stream",
     "text": [
      "[]\n"
     ]
    }
   ],
   "source": [
    "lis = soup.find_all(\"dl\", class_ = \"search-product-wrap adjust-spacing\")\n",
    "print(lis)"
   ]
  },
  {
   "cell_type": "code",
   "execution_count": 15,
   "metadata": {},
   "outputs": [
    {
     "name": "stdout",
     "output_type": "stream",
     "text": [
      "<Response [200]>\n"
     ]
    }
   ],
   "source": [
    "response = requests.get(\n",
    "    \"https://www.coupang.com/np/search?q={kw}&channel=user&component=&eventCategory=SRP&trcid=&traid=&sorter=scoreDesc&minPrice=&maxPrice=&priceRange=&filterType=&listSize=36&filter=&isPriceRange=false&brand=&offerCondition=&rating=0&page={pg}&rocketAll=false&searchIndexingToken=1=9&backgroundColor=\",\n",
    "    headers = {\"User-Agent\": \"Mozilla/5.0 (Windows NT 10.0; Win64; x64) AppleWebKit/537.36 (KHTML, like Gecko) Chrome/109.0.0.0 Safari/537.36\", \"Accept-Language\": \"ko-KR,ko;q=0.8,en-US;q=0.5,en;q=0.3\"})\n",
    "print(response)"
   ]
  },
  {
   "cell_type": "code",
   "execution_count": 14,
   "metadata": {},
   "outputs": [
    {
     "name": "stdout",
     "output_type": "stream",
     "text": [
      "<!DOCTYPE html>\n",
      "\n",
      "<!--[if lte IE 7 ]><html class=\"lt-ie9 lt-ie8\" lang=\"ko-KR\"><![endif]-->\n",
      "<!--[if IE 8 ]><html class=\"lt-ie9\" lang=\"ko-KR\"><![endif]-->\n",
      "<!--[if (gte IE 9)|!(IE)]><!--><html lang=\"ko-KR\"><!--<![endif]-->\n",
      "<head>\n",
      "<meta content=\"text/html; charset=utf-8\" http-equiv=\"Content-Type\"/>\n",
      "<link href=\"//static.coupangcdn.com/image/coupang/favicon/v2/favicon.ico\" rel=\"shortcut icon\" type=\"image/x-icon\"/>\n",
      "<title>쿠팡!</title>\n",
      "<style type=\"text/css\">\n",
      "    body {background: #f0f0f0; font-size:12px; font-family: \"apple sd gothic neo\", \"맑은 고딕\", \"malgun gothic\", 나눔고딕, nanumgothic, 돋움, dotum, sans-serif; color:#111; margin: 0; padding: 0; height: 100%; }\n",
      "    h1, h2, fieldset, legend, img, button, p { margin: 0; padding: 0; border: 0; }\n",
      "    a, a:hover { text-decoration: none; }\n",
      "    legend { display: none; }\n",
      "    .error-header-wrap { width: 100%; height: 115px; background: #fff; }\n",
      "    .header { width: 1020px; height: 115px; margin: 0 auto; }\n",
      "    h1 { width: 174px; height: 41px; margin: 37px 20px 0 40px; float: left; }\n",
      "    .search-form { position: relative; float: left; border: #4285f4 solid 2px; width: 741px; height: 37px; margin-top: 37px; }\n",
      "    .coupang-search { border: none; width: 691px; height: 35px; text-indent: 10px; line-height:37px; font-size:14px; color:#333; outline: 0; }\n",
      "    .coupang-search:not(*:root) { line-height: normal; }\n",
      "    input.coupang-search::-ms-clear{ display: none; }\n",
      "    input:focus { border: none; }\n",
      "    .search{ position:absolute; right:0; width:50px; height:39px; text-indent:-9999em; cursor: pointer;\n",
      "        background:url('//img1a.coupangcdn.com/image/coupang/common/pc_header_img_sprite_161007.png') -112px -71px no-repeat; }\n",
      "\n",
      "    .error-msg-wrap { width: 676px; height: 380px; background: #fff url(\"//img2a.coupangcdn.com/image/coupang/error/img-cpman.jpg\") bottom right no-repeat; margin:100px auto 9px auto; border: #ccc solid 1px; }\n",
      "    .error-msg-wrap h2 { font-size: 38px; margin: 87px 0 18px 65px; }\n",
      "    .error-msg-wrap h2 p { font-size: 22px; letter-spacing: -1px; }\n",
      "    .error-msg { font-size: 15px; color: #555; margin-left: 65px; line-height: 21px; letter-spacing: -1px; }\n",
      "    .error-msg em { font-style: normal; font-weight: bold; color: #434343; }\n",
      "    .error-msg a { display: block; width: 142px; height: 40px; color: #fff; background: #0073e9; font-weight: bold; font-size: 16px; text-align: center; line-height: 40px; border-radius: 2px; margin-top: 24px; }\n",
      "    .error-msg a:hover { background: #0053a3; }\n",
      "</style>\n",
      "<script>!function(e){var n=\"https://s.go-mpulse.net/boomerang/\";if(\"False\"==\"True\")e.BOOMR_config=e.BOOMR_config||{},e.BOOMR_config.PageParams=e.BOOMR_config.PageParams||{},e.BOOMR_config.PageParams.pci=!0,n=\"https://s2.go-mpulse.net/boomerang/\";if(window.BOOMR_API_key=\"WXG9C-E4PH3-3VS7G-HHZWT-KZLD9\",function(){function e(){if(!o){var e=document.createElement(\"script\");e.id=\"boomr-scr-as\",e.src=window.BOOMR.url,e.async=!0,i.parentNode.appendChild(e),o=!0}}function t(e){o=!0;var n,t,a,r,d=document,O=window;if(window.BOOMR.snippetMethod=e?\"if\":\"i\",t=function(e,n){var t=d.createElement(\"script\");t.id=n||\"boomr-if-as\",t.src=window.BOOMR.url,BOOMR_lstart=(new Date).getTime(),e=e||d.body,e.appendChild(t)},!window.addEventListener&&window.attachEvent&&navigator.userAgent.match(/MSIE [67]\\./))return window.BOOMR.snippetMethod=\"s\",void t(i.parentNode,\"boomr-async\");a=document.createElement(\"IFRAME\"),a.src=\"about:blank\",a.title=\"\",a.role=\"presentation\",a.loading=\"eager\",r=(a.frameElement||a).style,r.width=0,r.height=0,r.border=0,r.display=\"none\",i.parentNode.appendChild(a);try{O=a.contentWindow,d=O.document.open()}catch(_){n=document.domain,a.src=\"javascript:var d=document.open();d.domain='\"+n+\"';void(0);\",O=a.contentWindow,d=O.document.open()}if(n)d._boomrl=function(){this.domain=n,t()},d.write(\"<bo\"+\"dy onload='document._boomrl();'>\");else if(O._boomrl=function(){t()},O.addEventListener)O.addEventListener(\"load\",O._boomrl,!1);else if(O.attachEvent)O.attachEvent(\"onload\",O._boomrl);d.close()}function a(e){window.BOOMR_onload=e&&e.timeStamp||(new Date).getTime()}if(!window.BOOMR||!window.BOOMR.version&&!window.BOOMR.snippetExecuted){window.BOOMR=window.BOOMR||{},window.BOOMR.snippetStart=(new Date).getTime(),window.BOOMR.snippetExecuted=!0,window.BOOMR.snippetVersion=12,window.BOOMR.url=n+\"WXG9C-E4PH3-3VS7G-HHZWT-KZLD9\";var i=document.currentScript||document.getElementsByTagName(\"script\")[0],o=!1,r=document.createElement(\"link\");if(r.relList&&\"function\"==typeof r.relList.supports&&r.relList.supports(\"preload\")&&\"as\"in r)window.BOOMR.snippetMethod=\"p\",r.href=window.BOOMR.url,r.rel=\"preload\",r.as=\"script\",r.addEventListener(\"load\",e),r.addEventListener(\"error\",function(){t(!0)}),setTimeout(function(){if(!o)t(!0)},3e3),BOOMR_lstart=(new Date).getTime(),i.parentNode.appendChild(r);else t(!1);if(window.addEventListener)window.addEventListener(\"load\",a,!1);else if(window.attachEvent)window.attachEvent(\"onload\",a)}}(),\"300\".length>0)if(e&&\"performance\"in e&&e.performance&&\"function\"==typeof e.performance.setResourceTimingBufferSize)e.performance.setResourceTimingBufferSize(300);!function(){if(BOOMR=e.BOOMR||{},BOOMR.plugins=BOOMR.plugins||{},!BOOMR.plugins.AK){var n=\"\"==\"true\"?1:0,t=\"\",a=\"hmm7cldil3mzmzwrdqta-f-51755aeb3-clientnsv4-s.akamaihd.net\",i=\"false\"==\"true\"?2:1,o={\"ak.v\":\"37\",\"ak.cp\":\"461878\",\"ak.ai\":parseInt(\"296501\",10),\"ak.ol\":\"0\",\"ak.cr\":8,\"ak.ipv\":4,\"ak.proto\":\"http/1.1\",\"ak.rid\":\"265e1de5\",\"ak.r\":44964,\"ak.a2\":n,\"ak.m\":\"a\",\"ak.n\":\"essl\",\"ak.bpcip\":\"59.25.241.0\",\"ak.cport\":52941,\"ak.gh\":\"23.216.159.164\",\"ak.quicv\":\"\",\"ak.tlsv\":\"tls1.3\",\"ak.0rtt\":\"\",\"ak.csrc\":\"-\",\"ak.acc\":\"reno\",\"ak.t\":\"1724980262\",\"ak.ak\":\"hOBiQwZUYzCg5VSAfCLimQ==aIuo7tRsy5aXikfGR5p2iL+2iAEiIyFzPs/ngOBzk2ga1JIQxnPIsSy7/jBKn0hd9bxURB00Zns/Erqtcmh5/mNBktUpEkfD7LwkPUWiHVYr1BRFZVkYEfbaMkUFbeU/82mOkXKuf7ln9UjRCP6V32smyCzXEgrMxtssK+v89KW20pBFEZQctS4hRYG2mhfNKwSbN9u7o3eT1X/Ypo/Idi2EyO5cMGGJIauToGv21LmCr6pij1BZKZDG2X2nsZOnRTAz8L8pZMVl6EIOtv3uaw9DDbeqDcu4I9cSh6hqNu1TtKNhZOquMcmPPI2zVqFrERTd9dR1IULj6CaB3Dn76nrCj45mwEsRb800FmdmyuvsmUCw8VX610jUeDcDGHHv3GMFrMizkm79TqzlkYOk2Mamqw4MHorkAjiptdRo3lc=\",\"ak.pv\":\"105\",\"ak.dpoabenc\":\"\",\"ak.tf\":i};if(\"\"!==t)o[\"ak.ruds\"]=t;var r={i:!1,av:function(n){var t=\"http.initiator\";if(n&&(!n[t]||\"spa_hard\"===n[t]))o[\"ak.feo\"]=void 0!==e.aFeoApplied?1:0,BOOMR.addVar(o)},rv:function(){var e=[\"ak.bpcip\",\"ak.cport\",\"ak.cr\",\"ak.csrc\",\"ak.gh\",\"ak.ipv\",\"ak.m\",\"ak.n\",\"ak.ol\",\"ak.proto\",\"ak.quicv\",\"ak.tlsv\",\"ak.0rtt\",\"ak.r\",\"ak.acc\",\"ak.t\",\"ak.tf\"];BOOMR.removeVar(e)}};BOOMR.plugins.AK={akVars:o,akDNSPreFetchDomain:a,init:function(){if(!r.i){var e=BOOMR.subscribe;e(\"before_beacon\",r.av,null,null),e(\"onbeacon\",r.rv,null,null),r.i=!0}return this},is_complete:function(){return!0}}}}()}(window);</script></head>\n",
      "<body data-reference='{\"wiselogSid\":\"coupang\", \"profile\":\"\"}'>\n",
      "<div class=\"error-header-wrap\">\n",
      "<div class=\"header\">\n",
      "<h1><a data-coulog='{\"logCategory\":\"event\", \"logType\":\"click\", \"logLabel\":\"coupang_logo\"}' href=\"//www.coupang.com/\" title=\"Coupang - 내가 잘사는 이유\"><img alt=\"쿠팡로고\" height=\"41\" src=\"//img1a.coupangcdn.com/image/coupang/common/logo_coupang_w350.png\" width=\"174\"/></a></h1>\n",
      "<div class=\"search-form\">\n",
      "<fieldset>\n",
      "<legend>상품검색</legend>\n",
      "<form action=\"//www.coupang.com/np/search\" id=\"headerSearchForm\" method=\"get\">\n",
      "<input id=\"searchSelectedCategory\" name=\"component\" type=\"hidden\" value=\"\"/>\n",
      "<input autocomplete=\"off\" class=\"coupang-search\" id=\"headerSearchKeyword\" name=\"q\" title=\"쿠팡 상품 검색\" type=\"text\" value=\"\"/>\n",
      "<input name=\"channel\" type=\"hidden\" value=\"user\"/>\n",
      "<button class=\"search\" data-coulog='{\"logCategory\":\"event\", \"logType\":\"click\", \"logLabel\":\"go_search\"}' id=\"headerSearchBtn\" title=\"검색\" type=\"submit\">검색</button>\n",
      "</form>\n",
      "</fieldset>\n",
      "</div>\n",
      "</div>\n",
      "</div>\n",
      "<div class=\"error-msg-wrap\">\n",
      "<h2>죄송합니다. <p>요청하신 페이지를 찾지 못했습니다.</p></h2>\n",
      "<div class=\"error-msg\">\n",
      "            입력하신 주소가 정확한지 한 번 더 확인해주시기 바랍니다. <br/>\n",
      "<em>검색</em>이나 <em>쿠팡 홈</em>을 이용하시면 좀 더 다양한 상품을<br/> 구경하실 수 있습니다.\n",
      "            <a class=\"go-home\" data-coulog='{\"logCategory\":\"event\", \"logType\":\"click\", \"logLabel\":\"go_home\"}' href=\"//www.coupang.com/\">쿠팡 홈으로</a>\n",
      "</div>\n",
      "</div>\n",
      "<!-- CouLog -->\n",
      "<script src=\"//assets.coupangcdn.com/cdnjs/jquery/1.11.1/jquery.min.js\" type=\"text/javascript\"></script>\n",
      "<script async=\"\" src=\"//assets.coupangcdn.com/customjs/cou-log/2.0.0/cou-log.min.js\" type=\"text/javascript\"></script>\n",
      "<script src=\"/jo4tZ4/twSq/g/Q/C_ArDMUOjt9Aa3M/X1EuScfLXO8XEt/RVtxUzcaWgE/J2AoKG/1TNC0\" type=\"text/javascript\"></script></body>\n",
      "</html>\n",
      "\n"
     ]
    }
   ],
   "source": [
    "soup = BeautifulSoup(response.text, \"html.parser\")\n",
    "print(soup)"
   ]
  },
  {
   "cell_type": "code",
   "execution_count": null,
   "metadata": {},
   "outputs": [],
   "source": [
    "import requests\n",
    "import re\n",
    "from bs4 import BeautifulSoup\n",
    "\n",
    "url = \"https://www.coupang.com/np/search?q=컴퓨터&channel=user&component=&eventCategory=SRP&trcid=&traid=&sorter=scoreDesc&minPrice=&maxPrice=&priceRange=&filterType=&listSize=36&filter=&isPriceRange=false&brand=&offerCondition=&rating=0&page=1&rocketAll=false&searchIndexingToken=1=6&backgroundColor=\"\n",
    "headers = {\"User-Agent\":\"Mozilla/5.0 (Windows NT 10.0; Win64; x64) AppleWebKit/537.36 (KHTML, like Gecko) Chrome/109.0.0.0 Safari/537.36\", \"Accept-Language\": \"ko-KR,ko;q=0.8,en-US;q=0.5,en;q=0.3\"}\n",
    "res = requests.get(url, headers=headers)\n",
    "res.raise_for_status() # 웹페이지의 상태가 정상인지 확인\n",
    "\n",
    "soup = BeautifulSoup(res.text, \"lxml\") # 가져온 HTML 문서를 파서를 통해 BeautifulSoup 객체로 만듦\n",
    "\n",
    "lis = soup.find_all(\"li\", attrs={\"class\":re.compile(\"^search-product\")}) # li 태그 중에서 class 옵션이 search-product로 시작하는 요소들만 가져온다.\n",
    "print(lis)"
   ]
  }
 ],
 "metadata": {
  "kernelspec": {
   "display_name": "venv",
   "language": "python",
   "name": "python3"
  },
  "language_info": {
   "codemirror_mode": {
    "name": "ipython",
    "version": 3
   },
   "file_extension": ".py",
   "mimetype": "text/x-python",
   "name": "python",
   "nbconvert_exporter": "python",
   "pygments_lexer": "ipython3",
   "version": "3.12.4"
  }
 },
 "nbformat": 4,
 "nbformat_minor": 2
}
